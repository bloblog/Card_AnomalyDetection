{
 "cells": [
  {
   "cell_type": "markdown",
   "metadata": {},
   "source": [
    "## 모듈 임포트"
   ]
  },
  {
   "cell_type": "code",
   "execution_count": null,
   "metadata": {},
   "outputs": [
    {
     "ename": "",
     "evalue": "",
     "output_type": "error",
     "traceback": [
      "\u001b[1;31mJupyter를 시작할 수 없습니다. Jupyter를 찾는 중 오류: 셀을 실행하려면 jupyter 및 notebook 패키지가 필요합니다.\n",
      "\u001b[1;31mRun the following command to install 'jupyter 및 notebook' into the Python environment. \n",
      "\u001b[1;31mCommand: 'python -m pip install jupyter notebook -U\n",
      "\u001b[1;31mor\n",
      "\u001b[1;31mconda install jupyter notebook -U'\n",
      "\u001b[1;31m자세한 내용을 보려면 <a href='https://aka.ms/installJupyterForVSCode'>여기</a>를 클릭합니다."
     ]
    }
   ],
   "source": [
    "import pandas as pd\n",
    "import numpy as np\n",
    "\n",
    "from sklearn.ensemble import IsolationForest\n",
    "from sklearn.metrics import f1_score\n",
    "from sklearn.metrics import classification_report\n",
    "\n",
    "import matplotlib.pyplot as plt\n",
    "\n",
    "import warnings\n",
    "warnings.filterwarnings(action='ignore')"
   ]
  },
  {
   "cell_type": "markdown",
   "metadata": {},
   "source": [
    "## Data Load"
   ]
  },
  {
   "cell_type": "code",
   "execution_count": null,
   "metadata": {},
   "outputs": [],
   "source": [
    "from google.colab import drive\n",
    "drive.mount('/content/drive')"
   ]
  },
  {
   "cell_type": "code",
   "execution_count": null,
   "metadata": {},
   "outputs": [],
   "source": [
    "# 폴더로 이동\n",
    "%cd /content/drive/MyDrive/open/"
   ]
  },
  {
   "cell_type": "code",
   "execution_count": null,
   "metadata": {},
   "outputs": [],
   "source": [
    "train_df = pd.read_csv('train.csv')\n",
    "val_df = pd.read_csv('val.csv')"
   ]
  },
  {
   "cell_type": "markdown",
   "metadata": {},
   "source": [
    "## 정규성 검정"
   ]
  },
  {
   "cell_type": "code",
   "execution_count": null,
   "metadata": {},
   "outputs": [],
   "source": [
    "from scipy.stats import normaltest\n",
    "\n",
    "# 정규분포를 따르도록 랜덤하게 값을 부여\n",
    "# np.random.seed(0)\n",
    "# n = 5000\n",
    "# x1 = np.random.normal(0, 100, n)\n",
    "\n",
    "for col in val_df.columns[1:]:\n",
    "  nt = normaltest(val_df.loc[:, col])\n",
    "  print(col, nt)"
   ]
  },
  {
   "cell_type": "markdown",
   "metadata": {},
   "source": [
    "\n",
    "## Feature 분포 확인"
   ]
  },
  {
   "cell_type": "code",
   "execution_count": null,
   "metadata": {},
   "outputs": [],
   "source": [
    "\n",
    "# 이상치, 정상치 데이터 분리\n",
    "val_df_plot = val_df.drop(columns=['ID'])\n",
    "val_df_normal = val_df_plot[val_df_plot[\"Class\"] == 0]\n",
    "val_df_outlier = val_df_plot[val_df_plot[\"Class\"] == 1]"
   ]
  },
  {
   "cell_type": "code",
   "execution_count": null,
   "metadata": {},
   "outputs": [],
   "source": [
    "\n",
    "import seaborn as sns\n",
    "\n",
    "fig, axes = plt.subplots(nrows = 5, ncols = 6, figsize = (20, 20))\n",
    "cols = val_df_plot.columns[:-1].tolist()\n",
    "\n",
    "for i, col_name in enumerate(cols):\n",
    "  row = i // 6\n",
    "  col = i % 6\n",
    "  sns.distplot(val_df_normal[col_name], ax = axes[row][col])\n",
    "  sns.distplot(val_df_outlier[col_name], ax = axes[row][col])\n",
    "plt.show()"
   ]
  },
  {
   "cell_type": "markdown",
   "metadata": {},
   "source": [
    "### 이상치와 정상치 분포 모양이 비슷한 feature 제외\n",
    "-> 6, 13, 15, 19, 20, 22, 23, 24, 25, 26, 28, 29 제외한 나머지 18개 feature 선택"
   ]
  }
 ],
 "metadata": {
  "kernelspec": {
   "display_name": "Python 3",
   "language": "python",
   "name": "python3"
  },
  "language_info": {
   "name": "python",
   "version": "3.9.6"
  },
  "orig_nbformat": 4
 },
 "nbformat": 4,
 "nbformat_minor": 2
}
